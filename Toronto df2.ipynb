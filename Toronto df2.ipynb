{
    "cells": [
        {
            "metadata": {},
            "cell_type": "code",
            "source": "import pandas as pd\nimport requests\nfrom bs4 import BeautifulSoup\nimport numpy as np",
            "execution_count": 2,
            "outputs": []
        },
        {
            "metadata": {},
            "cell_type": "code",
            "source": "req = requests.get(\"https://en.wikipedia.org/wiki/List_of_postal_codes_of_Canada:_M\")\n\nsoup = BeautifulSoup(req.content,'lxml')\n\ntable = soup.find_all('table')[0]\n\ndf = pd.read_html(str(table))\n\nneighborhood=pd.DataFrame(df[0])",
            "execution_count": 9,
            "outputs": []
        },
        {
            "metadata": {},
            "cell_type": "code",
            "source": "neighborhood.head(11)",
            "execution_count": 26,
            "outputs": [
                {
                    "output_type": "execute_result",
                    "execution_count": 26,
                    "data": {
                        "text/plain": "(287, 3)"
                    },
                    "metadata": {}
                }
            ]
        },
        {
            "metadata": {},
            "cell_type": "code",
            "source": "neighborhood['Borough']=neighborhood['Borough'].replace('Not assigned', np.nan)\nneighborhood['Neighbourhood']=neighborhood['Neighbourhood'].replace('Not assigned', neighborhood['Borough'])\ndf=neighborhood.dropna()",
            "execution_count": 11,
            "outputs": []
        },
        {
            "metadata": {},
            "cell_type": "code",
            "source": "nei=df.groupby(('Postcode','Borough'))\ngrp=nei['Neighbourhood'].unique()\n",
            "execution_count": 12,
            "outputs": [
                {
                    "output_type": "stream",
                    "text": "/opt/conda/envs/Python36/lib/python3.6/site-packages/ipykernel/__main__.py:1: FutureWarning: Interpreting tuple 'by' as a list of keys, rather than a single key. Use 'by=[...]' instead of 'by=(...)'. In the future, a tuple will always mean a single key.\n  if __name__ == '__main__':\n",
                    "name": "stderr"
                }
            ]
        },
        {
            "metadata": {},
            "cell_type": "code",
            "source": "\npst=grp.reset_index()\npst.head()",
            "execution_count": 34,
            "outputs": [
                {
                    "output_type": "execute_result",
                    "execution_count": 34,
                    "data": {
                        "text/plain": "  Postcode      Borough                             Neighbourhood\n0      M1B  Scarborough                          [Rouge, Malvern]\n1      M1C  Scarborough  [Highland Creek, Rouge Hill, Port Union]\n2      M1E  Scarborough       [Guildwood, Morningside, West Hill]\n3      M1G  Scarborough                                  [Woburn]\n4      M1H  Scarborough                               [Cedarbrae]",
                        "text/html": "<div>\n<style scoped>\n    .dataframe tbody tr th:only-of-type {\n        vertical-align: middle;\n    }\n\n    .dataframe tbody tr th {\n        vertical-align: top;\n    }\n\n    .dataframe thead th {\n        text-align: right;\n    }\n</style>\n<table border=\"1\" class=\"dataframe\">\n  <thead>\n    <tr style=\"text-align: right;\">\n      <th></th>\n      <th>Postcode</th>\n      <th>Borough</th>\n      <th>Neighbourhood</th>\n    </tr>\n  </thead>\n  <tbody>\n    <tr>\n      <th>0</th>\n      <td>M1B</td>\n      <td>Scarborough</td>\n      <td>[Rouge, Malvern]</td>\n    </tr>\n    <tr>\n      <th>1</th>\n      <td>M1C</td>\n      <td>Scarborough</td>\n      <td>[Highland Creek, Rouge Hill, Port Union]</td>\n    </tr>\n    <tr>\n      <th>2</th>\n      <td>M1E</td>\n      <td>Scarborough</td>\n      <td>[Guildwood, Morningside, West Hill]</td>\n    </tr>\n    <tr>\n      <th>3</th>\n      <td>M1G</td>\n      <td>Scarborough</td>\n      <td>[Woburn]</td>\n    </tr>\n    <tr>\n      <th>4</th>\n      <td>M1H</td>\n      <td>Scarborough</td>\n      <td>[Cedarbrae]</td>\n    </tr>\n  </tbody>\n</table>\n</div>"
                    },
                    "metadata": {}
                }
            ]
        },
        {
            "metadata": {},
            "cell_type": "code",
            "source": "pst.shape",
            "execution_count": 35,
            "outputs": [
                {
                    "output_type": "execute_result",
                    "execution_count": 35,
                    "data": {
                        "text/plain": "(103, 3)"
                    },
                    "metadata": {}
                }
            ]
        },
        {
            "metadata": {},
            "cell_type": "code",
            "source": "!wget http://cocl.us/Geospatial_data",
            "execution_count": 29,
            "outputs": [
                {
                    "output_type": "stream",
                    "text": "--2020-03-16 02:14:04--  http://cocl.us/Geospatial_data\nResolving cocl.us (cocl.us)... 158.85.108.83, 158.85.108.86, 169.48.113.194\nConnecting to cocl.us (cocl.us)|158.85.108.83|:80... connected.\nHTTP request sent, awaiting response... 301 Moved Permanently\nLocation: https://cocl.us/Geospatial_data [following]\n--2020-03-16 02:14:06--  https://cocl.us/Geospatial_data\nConnecting to cocl.us (cocl.us)|158.85.108.83|:443... connected.\nHTTP request sent, awaiting response... 301 Moved Permanently\nLocation: https://ibm.box.com/shared/static/9afzr83pps4pwf2smjjcf1y5mvgb18rr.csv [following]\n--2020-03-16 02:14:07--  https://ibm.box.com/shared/static/9afzr83pps4pwf2smjjcf1y5mvgb18rr.csv\nResolving ibm.box.com (ibm.box.com)... 107.152.29.197\nConnecting to ibm.box.com (ibm.box.com)|107.152.29.197|:443... connected.\nHTTP request sent, awaiting response... 301 Moved Permanently\nLocation: /public/static/9afzr83pps4pwf2smjjcf1y5mvgb18rr.csv [following]\n--2020-03-16 02:14:07--  https://ibm.box.com/public/static/9afzr83pps4pwf2smjjcf1y5mvgb18rr.csv\nReusing existing connection to ibm.box.com:443.\nHTTP request sent, awaiting response... 301 Moved Permanently\nLocation: https://ibm.ent.box.com/public/static/9afzr83pps4pwf2smjjcf1y5mvgb18rr.csv [following]\n--2020-03-16 02:14:07--  https://ibm.ent.box.com/public/static/9afzr83pps4pwf2smjjcf1y5mvgb18rr.csv\nResolving ibm.ent.box.com (ibm.ent.box.com)... 107.152.29.211\nConnecting to ibm.ent.box.com (ibm.ent.box.com)|107.152.29.211|:443... connected.\nHTTP request sent, awaiting response... 302 Found\nLocation: https://public.boxcloud.com/d/1/b1!7n29SyfuCxTaTt3rIetQD6rwNXE173kcQ1Ghq-p1Mr66WWw13c_xN1ENosVEXLwEOa3MXkI5FhjasUL2YjuJQmUxCK-26bZ1TPisiKGz0ldcfOAoAAruY-Fr0j12foc4tz6zQeG5EOeI0BSujkXfHGqbrldIw6cylBvwT9PNPdv92KH-31da_6yuM0wo1GgKbZpf_uvown9eIlOaBo9OFUI1ifXqHK3q1Bd3GEPaJ_DFUpAvUBnTBRRh1YHxCDR4Kc5yW82KENZ_PgEhlddR2xYWOwpciQrg69Ky1xyzaJ8WnLVzgQi6ejrk6FAI5N_30r2fyLqGDzFVQ6xHB_e_yx7Uo_dl__Df9YyYaJf3oyrm8YQMVa6MyUNv2c1uIL5o-aOTlmK4oFwBUzNlHZ2jT4Rr_LxB_bbAl8IEirmf4UhSLdtKJuYuy8L_nT1yCW9vv3R9kVWG0bEHgBv2Tlaszm5G0OhCxzO6y8BEbsB5YMR6_-Re08yT8DYzyAPeal_Mp4B0gZ3j4DKVSAs2LN9OPlErfukQjnaQMYZCdanKhQczFtCLAxnlVPK-Qk9r3LnYk1BccYQWlxIpHF6pf3Bxi7AD1S_Ff-0Kw8nscw0LBuwRrpPZw7gCDog0uQvXuboVBPKB5C2Ig88K4Wkh2cdhyj2qwMKN_UZrel73X3nriTRdo6o5pcHQMqm2o4_z8TvtJmYyDJO9JjZy5aJCEu_ZW4RkGw4QxBzgOPOfTZVD8LrmMHKBgpO6lLqvdNVO3wnt0rukFqabtvoZ2QM3kGgolRt_q5fAMM9bcty2s6N8S8BAva_x8jPXVJIVJuibwH72huXjRtGc-XInCO5EVphO7RN8r22MZraxBE8orwaoR8QGLUXPx4-8hD4O-eKZdknJF4y2AUqQhC3qmY5iGLSNaEuq2jUOCNLGr_C_pvuIvWzsRDasOJ6w3Ufg1BFI_YDPXaUsgJQUfj2qk5SqCliok0W_g91VTDHoXGnP6K1zp3w259ossnhJzSmyBDbtW3VMeIONXjtSbTgcCeYxdxM8XQIWl4t7SedgBde_IvtlIb-aLEh_mLGhwgu7EvTMqBSzNY1VkCIsYDt3spI0sd4HobZ2nohyfIF56vRUpNi5sLA7SGsOTaVGfimgcZG3CcpxxJNF1xgZ2ziUCR1q1-JfTv7H1aPN-LlVoP9asV5MNCJaWxGiNI_sXdGja0ERivmHID2F6ERzijkO5ex026yrNBgZa9xIrKd8EKp-Y7JOyZ4jtfpMv53VzxWzZPjAaJea0Cen3U7VzwnBZjuEv1yrZHzQ7tm698gHcPOaQlcT0qUtjP8sEt2RjhtpLNSOnvWnU9b--mhEXMZVRmbisIiZW1BI-J3aRCgNMPxmhoyUOXw2fbYFmUoTLl7tajw./download [following]\n--2020-03-16 02:14:08--  https://public.boxcloud.com/d/1/b1!7n29SyfuCxTaTt3rIetQD6rwNXE173kcQ1Ghq-p1Mr66WWw13c_xN1ENosVEXLwEOa3MXkI5FhjasUL2YjuJQmUxCK-26bZ1TPisiKGz0ldcfOAoAAruY-Fr0j12foc4tz6zQeG5EOeI0BSujkXfHGqbrldIw6cylBvwT9PNPdv92KH-31da_6yuM0wo1GgKbZpf_uvown9eIlOaBo9OFUI1ifXqHK3q1Bd3GEPaJ_DFUpAvUBnTBRRh1YHxCDR4Kc5yW82KENZ_PgEhlddR2xYWOwpciQrg69Ky1xyzaJ8WnLVzgQi6ejrk6FAI5N_30r2fyLqGDzFVQ6xHB_e_yx7Uo_dl__Df9YyYaJf3oyrm8YQMVa6MyUNv2c1uIL5o-aOTlmK4oFwBUzNlHZ2jT4Rr_LxB_bbAl8IEirmf4UhSLdtKJuYuy8L_nT1yCW9vv3R9kVWG0bEHgBv2Tlaszm5G0OhCxzO6y8BEbsB5YMR6_-Re08yT8DYzyAPeal_Mp4B0gZ3j4DKVSAs2LN9OPlErfukQjnaQMYZCdanKhQczFtCLAxnlVPK-Qk9r3LnYk1BccYQWlxIpHF6pf3Bxi7AD1S_Ff-0Kw8nscw0LBuwRrpPZw7gCDog0uQvXuboVBPKB5C2Ig88K4Wkh2cdhyj2qwMKN_UZrel73X3nriTRdo6o5pcHQMqm2o4_z8TvtJmYyDJO9JjZy5aJCEu_ZW4RkGw4QxBzgOPOfTZVD8LrmMHKBgpO6lLqvdNVO3wnt0rukFqabtvoZ2QM3kGgolRt_q5fAMM9bcty2s6N8S8BAva_x8jPXVJIVJuibwH72huXjRtGc-XInCO5EVphO7RN8r22MZraxBE8orwaoR8QGLUXPx4-8hD4O-eKZdknJF4y2AUqQhC3qmY5iGLSNaEuq2jUOCNLGr_C_pvuIvWzsRDasOJ6w3Ufg1BFI_YDPXaUsgJQUfj2qk5SqCliok0W_g91VTDHoXGnP6K1zp3w259ossnhJzSmyBDbtW3VMeIONXjtSbTgcCeYxdxM8XQIWl4t7SedgBde_IvtlIb-aLEh_mLGhwgu7EvTMqBSzNY1VkCIsYDt3spI0sd4HobZ2nohyfIF56vRUpNi5sLA7SGsOTaVGfimgcZG3CcpxxJNF1xgZ2ziUCR1q1-JfTv7H1aPN-LlVoP9asV5MNCJaWxGiNI_sXdGja0ERivmHID2F6ERzijkO5ex026yrNBgZa9xIrKd8EKp-Y7JOyZ4jtfpMv53VzxWzZPjAaJea0Cen3U7VzwnBZjuEv1yrZHzQ7tm698gHcPOaQlcT0qUtjP8sEt2RjhtpLNSOnvWnU9b--mhEXMZVRmbisIiZW1BI-J3aRCgNMPxmhoyUOXw2fbYFmUoTLl7tajw./download\nResolving public.boxcloud.com (public.boxcloud.com)... 107.152.26.200\nConnecting to public.boxcloud.com (public.boxcloud.com)|107.152.26.200|:443... connected.\nHTTP request sent, awaiting response... 200 OK\nLength: 2891 (2.8K) [text/csv]\nSaving to: \u2018Geospatial_data.1\u2019\n\n100%[======================================>] 2,891       --.-K/s   in 0s      \n\n2020-03-16 02:14:08 (259 MB/s) - \u2018Geospatial_data.1\u2019 saved [2891/2891]\n\n",
                    "name": "stdout"
                }
            ]
        },
        {
            "metadata": {},
            "cell_type": "code",
            "source": "df=pd.read_csv('Geospatial_data')",
            "execution_count": 36,
            "outputs": []
        },
        {
            "metadata": {},
            "cell_type": "code",
            "source": "df=df.rename(columns={'Postal Code':'Postcode'})\ndf.head()",
            "execution_count": 37,
            "outputs": [
                {
                    "output_type": "execute_result",
                    "execution_count": 37,
                    "data": {
                        "text/plain": "  Postcode   Latitude  Longitude\n0      M1B  43.806686 -79.194353\n1      M1C  43.784535 -79.160497\n2      M1E  43.763573 -79.188711\n3      M1G  43.770992 -79.216917\n4      M1H  43.773136 -79.239476",
                        "text/html": "<div>\n<style scoped>\n    .dataframe tbody tr th:only-of-type {\n        vertical-align: middle;\n    }\n\n    .dataframe tbody tr th {\n        vertical-align: top;\n    }\n\n    .dataframe thead th {\n        text-align: right;\n    }\n</style>\n<table border=\"1\" class=\"dataframe\">\n  <thead>\n    <tr style=\"text-align: right;\">\n      <th></th>\n      <th>Postcode</th>\n      <th>Latitude</th>\n      <th>Longitude</th>\n    </tr>\n  </thead>\n  <tbody>\n    <tr>\n      <th>0</th>\n      <td>M1B</td>\n      <td>43.806686</td>\n      <td>-79.194353</td>\n    </tr>\n    <tr>\n      <th>1</th>\n      <td>M1C</td>\n      <td>43.784535</td>\n      <td>-79.160497</td>\n    </tr>\n    <tr>\n      <th>2</th>\n      <td>M1E</td>\n      <td>43.763573</td>\n      <td>-79.188711</td>\n    </tr>\n    <tr>\n      <th>3</th>\n      <td>M1G</td>\n      <td>43.770992</td>\n      <td>-79.216917</td>\n    </tr>\n    <tr>\n      <th>4</th>\n      <td>M1H</td>\n      <td>43.773136</td>\n      <td>-79.239476</td>\n    </tr>\n  </tbody>\n</table>\n</div>"
                    },
                    "metadata": {}
                }
            ]
        },
        {
            "metadata": {},
            "cell_type": "code",
            "source": "mrg=pst.merge(df,on='Postcode', how='left')\n",
            "execution_count": 38,
            "outputs": []
        },
        {
            "metadata": {},
            "cell_type": "code",
            "source": "mrg.head(12)",
            "execution_count": 43,
            "outputs": [
                {
                    "output_type": "execute_result",
                    "execution_count": 43,
                    "data": {
                        "text/plain": "   Postcode      Borough                                      Neighbourhood  \\\n0       M1B  Scarborough                                   [Rouge, Malvern]   \n1       M1C  Scarborough           [Highland Creek, Rouge Hill, Port Union]   \n2       M1E  Scarborough                [Guildwood, Morningside, West Hill]   \n3       M1G  Scarborough                                           [Woburn]   \n4       M1H  Scarborough                                        [Cedarbrae]   \n5       M1J  Scarborough                              [Scarborough Village]   \n6       M1K  Scarborough      [East Birchmount Park, Ionview, Kennedy Park]   \n7       M1L  Scarborough                  [Clairlea, Golden Mile, Oakridge]   \n8       M1M  Scarborough  [Cliffcrest, Cliffside, Scarborough Village West]   \n9       M1N  Scarborough                      [Birch Cliff, Cliffside West]   \n10      M1P  Scarborough  [Dorset Park, Scarborough Town Centre, Wexford...   \n11      M1R  Scarborough                                [Maryvale, Wexford]   \n\n     Latitude  Longitude  \n0   43.806686 -79.194353  \n1   43.784535 -79.160497  \n2   43.763573 -79.188711  \n3   43.770992 -79.216917  \n4   43.773136 -79.239476  \n5   43.744734 -79.239476  \n6   43.727929 -79.262029  \n7   43.711112 -79.284577  \n8   43.716316 -79.239476  \n9   43.692657 -79.264848  \n10  43.757410 -79.273304  \n11  43.750072 -79.295849  ",
                        "text/html": "<div>\n<style scoped>\n    .dataframe tbody tr th:only-of-type {\n        vertical-align: middle;\n    }\n\n    .dataframe tbody tr th {\n        vertical-align: top;\n    }\n\n    .dataframe thead th {\n        text-align: right;\n    }\n</style>\n<table border=\"1\" class=\"dataframe\">\n  <thead>\n    <tr style=\"text-align: right;\">\n      <th></th>\n      <th>Postcode</th>\n      <th>Borough</th>\n      <th>Neighbourhood</th>\n      <th>Latitude</th>\n      <th>Longitude</th>\n    </tr>\n  </thead>\n  <tbody>\n    <tr>\n      <th>0</th>\n      <td>M1B</td>\n      <td>Scarborough</td>\n      <td>[Rouge, Malvern]</td>\n      <td>43.806686</td>\n      <td>-79.194353</td>\n    </tr>\n    <tr>\n      <th>1</th>\n      <td>M1C</td>\n      <td>Scarborough</td>\n      <td>[Highland Creek, Rouge Hill, Port Union]</td>\n      <td>43.784535</td>\n      <td>-79.160497</td>\n    </tr>\n    <tr>\n      <th>2</th>\n      <td>M1E</td>\n      <td>Scarborough</td>\n      <td>[Guildwood, Morningside, West Hill]</td>\n      <td>43.763573</td>\n      <td>-79.188711</td>\n    </tr>\n    <tr>\n      <th>3</th>\n      <td>M1G</td>\n      <td>Scarborough</td>\n      <td>[Woburn]</td>\n      <td>43.770992</td>\n      <td>-79.216917</td>\n    </tr>\n    <tr>\n      <th>4</th>\n      <td>M1H</td>\n      <td>Scarborough</td>\n      <td>[Cedarbrae]</td>\n      <td>43.773136</td>\n      <td>-79.239476</td>\n    </tr>\n    <tr>\n      <th>5</th>\n      <td>M1J</td>\n      <td>Scarborough</td>\n      <td>[Scarborough Village]</td>\n      <td>43.744734</td>\n      <td>-79.239476</td>\n    </tr>\n    <tr>\n      <th>6</th>\n      <td>M1K</td>\n      <td>Scarborough</td>\n      <td>[East Birchmount Park, Ionview, Kennedy Park]</td>\n      <td>43.727929</td>\n      <td>-79.262029</td>\n    </tr>\n    <tr>\n      <th>7</th>\n      <td>M1L</td>\n      <td>Scarborough</td>\n      <td>[Clairlea, Golden Mile, Oakridge]</td>\n      <td>43.711112</td>\n      <td>-79.284577</td>\n    </tr>\n    <tr>\n      <th>8</th>\n      <td>M1M</td>\n      <td>Scarborough</td>\n      <td>[Cliffcrest, Cliffside, Scarborough Village West]</td>\n      <td>43.716316</td>\n      <td>-79.239476</td>\n    </tr>\n    <tr>\n      <th>9</th>\n      <td>M1N</td>\n      <td>Scarborough</td>\n      <td>[Birch Cliff, Cliffside West]</td>\n      <td>43.692657</td>\n      <td>-79.264848</td>\n    </tr>\n    <tr>\n      <th>10</th>\n      <td>M1P</td>\n      <td>Scarborough</td>\n      <td>[Dorset Park, Scarborough Town Centre, Wexford...</td>\n      <td>43.757410</td>\n      <td>-79.273304</td>\n    </tr>\n    <tr>\n      <th>11</th>\n      <td>M1R</td>\n      <td>Scarborough</td>\n      <td>[Maryvale, Wexford]</td>\n      <td>43.750072</td>\n      <td>-79.295849</td>\n    </tr>\n  </tbody>\n</table>\n</div>"
                    },
                    "metadata": {}
                }
            ]
        },
        {
            "metadata": {},
            "cell_type": "code",
            "source": "",
            "execution_count": null,
            "outputs": []
        },
        {
            "metadata": {},
            "cell_type": "code",
            "source": "",
            "execution_count": null,
            "outputs": []
        },
        {
            "metadata": {},
            "cell_type": "code",
            "source": "",
            "execution_count": null,
            "outputs": []
        },
        {
            "metadata": {},
            "cell_type": "code",
            "source": "",
            "execution_count": null,
            "outputs": []
        },
        {
            "metadata": {},
            "cell_type": "code",
            "source": "",
            "execution_count": null,
            "outputs": []
        },
        {
            "metadata": {},
            "cell_type": "code",
            "source": "",
            "execution_count": null,
            "outputs": []
        }
    ],
    "metadata": {
        "kernelspec": {
            "name": "python3",
            "display_name": "Python 3.6",
            "language": "python"
        },
        "language_info": {
            "name": "python",
            "version": "3.6.9",
            "mimetype": "text/x-python",
            "codemirror_mode": {
                "name": "ipython",
                "version": 3
            },
            "pygments_lexer": "ipython3",
            "nbconvert_exporter": "python",
            "file_extension": ".py"
        }
    },
    "nbformat": 4,
    "nbformat_minor": 1
}